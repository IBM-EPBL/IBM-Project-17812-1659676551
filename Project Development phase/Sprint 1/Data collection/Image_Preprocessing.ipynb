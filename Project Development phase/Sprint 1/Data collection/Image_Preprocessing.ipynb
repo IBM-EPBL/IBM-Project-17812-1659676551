{
  "cells": [
    {
      "cell_type": "markdown",
      "source": [
        "Image preprocessing"
      ],
      "metadata": {
        "id": "Bo38H6cLSNFf"
      }
    },
    {
      "cell_type": "code",
      "source": [
        "from google.colab import drive\n",
        "drive.mount('/content/drive')"
      ],
      "metadata": {
        "colab": {
          "base_uri": "https://localhost:8080/"
        },
        "id": "I-yz7QSDRX4B",
        "outputId": "12578977-b503-46b2-db1f-b31ab68162d8"
      },
      "execution_count": null,
      "outputs": [
        {
          "output_type": "stream",
          "name": "stdout",
          "text": [
            "Drive already mounted at /content/drive; to attempt to forcibly remount, call drive.mount(\"/content/drive\", force_remount=True).\n"
          ]
        }
      ]
    },
    {
      "cell_type": "markdown",
      "source": [
        "Import The ImageDataGenerator Library"
      ],
      "metadata": {
        "id": "zcmKS0R5O8PR"
      }
    },
    {
      "cell_type": "code",
      "source": [
        "# This library helps add support for large, multi-dimensional arrays and matrices\n",
        "import numpy as np\n",
        "#open source used for both ML and DL for computation\n",
        "import tensorflow as tf\n",
        "#it is a plain stack of layers\n",
        "from tensorflow.keras.models import Sequential \n",
        "#Dense layer is the regular deeply connected neural network layer\n",
        "from tensorflow.keras.layers import Dense,Flatten, Dropout\n",
        "#Faltten-used fot flattening the input or change the dimension, MaxPooling2D-for downsampling the image for Convolutional layer\n",
        "from tensorflow.keras.layers import Convolution2D,MaxPooling2D \n",
        "#Its used for different augmentation of the image \n",
        "from tensorflow.keras.preprocessing.image import ImageDataGenerator"
      ],
      "metadata": {
        "id": "1y6qjVBTQGn5"
      },
      "execution_count": null,
      "outputs": []
    },
    {
      "cell_type": "markdown",
      "source": [
        "Configure ImageDataGenerator Class"
      ],
      "metadata": {
        "id": "4KwyMXdCQMv_"
      }
    },
    {
      "cell_type": "code",
      "source": [
        "#setting parameter for Image Data agumentation to the traing data\n",
        "train_datagen = ImageDataGenerator(rescale=1./255,\n",
        "                                   shear_range=0.2,\n",
        "                                   zoom_range=0.2,\n",
        "                                   horizontal_flip=True)\n",
        "#Image Data agumentation to the testing data\n",
        "test_datagen=ImageDataGenerator(rescale=1./255)"
      ],
      "metadata": {
        "id": "lqwl864zQP_i"
      },
      "execution_count": null,
      "outputs": []
    },
    {
      "cell_type": "markdown",
      "source": [
        "Apply ImageDataGenerator Functionality To Trainset And Testset\n",
        "\n"
      ],
      "metadata": {
        "id": "qAjuE2UWQhUm"
      }
    },
    {
      "cell_type": "code",
      "source": [
        "#performing data agumentation to train data\n",
        "x_train = train_datagen.flow_from_directory(r'/content/drive/MyDrive/Datasets/train',\n",
        "                                            target_size=(64, 64),\n",
        "                                            batch_size=3,\n",
        "                                            color_mode='grayscale',\n",
        "                                            class_mode='categorical')\n",
        "#performing data agumentation to test data\n",
        "x_test = test_datagen.flow_from_directory(r'/content/drive/MyDrive/Datasets/test',\n",
        "                                          target_size=(64, 64),\n",
        "                                          batch_size=3,\n",
        "                                          color_mode='grayscale',\n",
        "                                          class_mode='categorical')"
      ],
      "metadata": {
        "colab": {
          "base_uri": "https://localhost:8080/"
        },
        "id": "Ja6rqPkgQkhP",
        "outputId": "f4b9a409-5b48-4ae7-ca2e-a9e05b8bfe89"
      },
      "execution_count": null,
      "outputs": [
        {
          "output_type": "stream",
          "name": "stdout",
          "text": [
            "Found 594 images belonging to 6 classes.\n",
            "Found 30 images belonging to 6 classes.\n"
          ]
        }
      ]
    },
    {
      "cell_type": "markdown",
      "source": [],
      "metadata": {
        "id": "Ho-QQPLrO6MG"
      }
    }
  ],
  "metadata": {
    "colab": {
      "provenance": []
    },
    "kernelspec": {
      "display_name": "Python 3",
      "name": "python3"
    },
    "language_info": {
      "name": "python"
    }
  },
  "nbformat": 4,
  "nbformat_minor": 0
}