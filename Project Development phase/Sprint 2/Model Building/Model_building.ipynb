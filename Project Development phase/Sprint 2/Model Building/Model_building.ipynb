{
  "cells": [
    {
      "cell_type": "code",
      "execution_count": 34,
      "metadata": {
        "colab": {
          "base_uri": "https://localhost:8080/"
        },
        "id": "nSK9Xefue4Jb",
        "outputId": "1b600ff0-2307-4299-e39c-25f8d18e0a44"
      },
      "outputs": [
        {
          "output_type": "stream",
          "name": "stdout",
          "text": [
            "Drive already mounted at /content/drive; to attempt to forcibly remount, call drive.mount(\"/content/drive\", force_remount=True).\n"
          ]
        }
      ],
      "source": [
        "from google.colab import drive\n",
        "drive.mount('/content/drive')"
      ]
    },
    {
      "cell_type": "markdown",
      "metadata": {
        "id": "99q7Sj_8gw1A"
      },
      "source": [
        "Import the libraries"
      ]
    },
    {
      "cell_type": "code",
      "execution_count": 67,
      "metadata": {
        "id": "QAxejmmagz_1"
      },
      "outputs": [],
      "source": [
        "import numpy as np\n",
        "import tensorflow as tf\n",
        "from tensorflow.keras.models import Sequential\n",
        "from tensorflow.keras.layers import Dense,Flatten,Dropout\n",
        "from tensorflow.keras.layers import Convolution2D,MaxPooling2D\n",
        "from tensorflow.keras.preprocessing.image import ImageDataGenerator"
      ]
    },
    {
      "cell_type": "markdown",
      "metadata": {
        "id": "LgbuDQxAg3FP"
      },
      "source": [
        "Augment the data"
      ]
    },
    {
      "cell_type": "code",
      "execution_count": 68,
      "metadata": {
        "id": "H18_3vI5g8F6"
      },
      "outputs": [],
      "source": [
        "train = ImageDataGenerator(rescale = 1./255,shear_range=0.2,zoom_range=0.2,horizontal_flip=True)\n",
        "test = ImageDataGenerator(rescale = 1./255)"
      ]
    },
    {
      "cell_type": "markdown",
      "metadata": {
        "id": "Q3PijNQMhDYQ"
      },
      "source": [
        "Loading and augmentation of given data"
      ]
    },
    {
      "cell_type": "code",
      "execution_count": 37,
      "metadata": {
        "colab": {
          "base_uri": "https://localhost:8080/"
        },
        "id": "azyH-jsehHp7",
        "outputId": "a3b3b891-80aa-450f-cc37-378f2d467df6"
      },
      "outputs": [
        {
          "output_type": "stream",
          "name": "stdout",
          "text": [
            "Found 594 images belonging to 6 classes.\n",
            "Found 30 images belonging to 6 classes.\n"
          ]
        }
      ],
      "source": [
        "A_train = train.flow_from_directory('/content/drive/MyDrive/Datasets/train', target_size=(64,64), color_mode='grayscale',batch_size=3, class_mode='categorical')\n",
        "A_test = test.flow_from_directory('/content/drive/MyDrive/Datasets/test', target_size=(64,64), color_mode='grayscale',batch_size=3, class_mode='categorical')"
      ]
    },
    {
      "cell_type": "code",
      "execution_count": 38,
      "metadata": {
        "colab": {
          "base_uri": "https://localhost:8080/"
        },
        "id": "klnypjVRha5Q",
        "outputId": "9e6e7007-1979-440f-8d2a-3d2285763864"
      },
      "outputs": [
        {
          "output_type": "stream",
          "name": "stdout",
          "text": [
            "{'0': 0, '1': 1, '2': 2, '3': 3, '4': 4, '5': 5}\n"
          ]
        }
      ],
      "source": [
        "print(A_train.class_indices)"
      ]
    },
    {
      "cell_type": "code",
      "execution_count": 39,
      "metadata": {
        "colab": {
          "base_uri": "https://localhost:8080/"
        },
        "id": "9r7MvV2Whdk-",
        "outputId": "4fc1f1b6-3fec-454f-8c9b-ce3bde813807"
      },
      "outputs": [
        {
          "output_type": "stream",
          "name": "stdout",
          "text": [
            "{'0': 0, '1': 1, '2': 2, '3': 3, '4': 4, '5': 5}\n"
          ]
        }
      ],
      "source": [
        "print(A_test.class_indices)"
      ]
    },
    {
      "cell_type": "markdown",
      "metadata": {
        "id": "TO0R0tmahmxt"
      },
      "source": [
        "Import keras library"
      ]
    },
    {
      "cell_type": "code",
      "execution_count": 40,
      "metadata": {
        "id": "oa89oCWshh-e"
      },
      "outputs": [],
      "source": [
        "model = Sequential()"
      ]
    },
    {
      "cell_type": "markdown",
      "metadata": {
        "id": "U_FXg7Lah0sl"
      },
      "source": [
        "Add 1st Convolution Layer and Pooling layer"
      ]
    },
    {
      "cell_type": "code",
      "execution_count": 41,
      "metadata": {
        "id": "QJrs2mdNB4pO"
      },
      "outputs": [],
      "source": [
        "model.add(Convolution2D(32,(3,3),input_shape=(64,64,1),activation='relu'))\n",
        "model.add(MaxPooling2D(pool_size=(2,2)))"
      ]
    },
    {
      "cell_type": "markdown",
      "metadata": {
        "id": "8o9sOS7gh2RJ"
      },
      "source": [
        "Add 2nd Convolution Layer and Pooling layer"
      ]
    },
    {
      "cell_type": "code",
      "execution_count": 42,
      "metadata": {
        "id": "tggB_7Xwh7np"
      },
      "outputs": [],
      "source": [
        "model.add(Convolution2D(32,(3,3),activation='relu'))\n",
        "model.add(MaxPooling2D(pool_size=(2,2)))"
      ]
    },
    {
      "cell_type": "markdown",
      "metadata": {
        "id": "0K_ReQmpiGHg"
      },
      "source": [
        "Add Flatten layer"
      ]
    },
    {
      "cell_type": "code",
      "execution_count": 43,
      "metadata": {
        "id": "kokaDOEGiHXo"
      },
      "outputs": [],
      "source": [
        "model.add(Flatten())"
      ]
    },
    {
      "cell_type": "markdown",
      "metadata": {
        "id": "JSEO0NyAiSQL"
      },
      "source": [
        "Add dense layers"
      ]
    },
    {
      "cell_type": "code",
      "execution_count": 44,
      "metadata": {
        "id": "IUwi5dDziUBT"
      },
      "outputs": [],
      "source": [
        "model.add(Dense(units=512,activation='relu'))"
      ]
    },
    {
      "cell_type": "code",
      "execution_count": 45,
      "metadata": {
        "id": "az5nHydsibtS"
      },
      "outputs": [],
      "source": [
        "model.add(Dense(units=6,activation='softmax'))"
      ]
    },
    {
      "cell_type": "code",
      "execution_count": 46,
      "metadata": {
        "colab": {
          "base_uri": "https://localhost:8080/"
        },
        "id": "8aMedgQdifrj",
        "outputId": "2f3fd334-d49d-4791-b643-bb1d7ba0a1a6"
      },
      "outputs": [
        {
          "output_type": "stream",
          "name": "stdout",
          "text": [
            "Model: \"sequential_1\"\n",
            "_________________________________________________________________\n",
            " Layer (type)                Output Shape              Param #   \n",
            "=================================================================\n",
            " conv2d_2 (Conv2D)           (None, 62, 62, 32)        320       \n",
            "                                                                 \n",
            " max_pooling2d_2 (MaxPooling  (None, 31, 31, 32)       0         \n",
            " 2D)                                                             \n",
            "                                                                 \n",
            " conv2d_3 (Conv2D)           (None, 29, 29, 32)        9248      \n",
            "                                                                 \n",
            " max_pooling2d_3 (MaxPooling  (None, 14, 14, 32)       0         \n",
            " 2D)                                                             \n",
            "                                                                 \n",
            " flatten_1 (Flatten)         (None, 6272)              0         \n",
            "                                                                 \n",
            " dense_2 (Dense)             (None, 512)               3211776   \n",
            "                                                                 \n",
            " dense_3 (Dense)             (None, 6)                 3078      \n",
            "                                                                 \n",
            "=================================================================\n",
            "Total params: 3,224,422\n",
            "Trainable params: 3,224,422\n",
            "Non-trainable params: 0\n",
            "_________________________________________________________________\n"
          ]
        }
      ],
      "source": [
        "model.summary()"
      ]
    },
    {
      "cell_type": "markdown",
      "metadata": {
        "id": "KIG6jma4i5Uz"
      },
      "source": [
        "Compile the model"
      ]
    },
    {
      "cell_type": "code",
      "execution_count": 47,
      "metadata": {
        "id": "5VIizoa5i7_q"
      },
      "outputs": [],
      "source": [
        "model.compile(metrics=['accuracy'],loss='categorical_crossentropy',optimizer='adam')"
      ]
    },
    {
      "cell_type": "markdown",
      "metadata": {
        "id": "Qd4whRoKjC7M"
      },
      "source": [
        "Train the model"
      ]
    },
    {
      "cell_type": "code",
      "execution_count": 48,
      "metadata": {
        "colab": {
          "base_uri": "https://localhost:8080/"
        },
        "id": "zf5hmNJ6jFBP",
        "outputId": "7cbd3bc7-8466-42a8-843b-ccc9f6fea7ff"
      },
      "outputs": [
        {
          "output_type": "stream",
          "name": "stdout",
          "text": [
            "Epoch 1/25\n",
            "198/198 [==============================] - 13s 65ms/step - loss: 1.4348 - accuracy: 0.4091 - val_loss: 0.9153 - val_accuracy: 0.6000\n",
            "Epoch 2/25\n",
            "198/198 [==============================] - 13s 65ms/step - loss: 0.6544 - accuracy: 0.7508 - val_loss: 0.5115 - val_accuracy: 0.8000\n",
            "Epoch 3/25\n",
            "198/198 [==============================] - 13s 64ms/step - loss: 0.4077 - accuracy: 0.8519 - val_loss: 0.3658 - val_accuracy: 0.8333\n",
            "Epoch 4/25\n",
            "198/198 [==============================] - 12s 63ms/step - loss: 0.2910 - accuracy: 0.8822 - val_loss: 0.4198 - val_accuracy: 0.8667\n",
            "Epoch 5/25\n",
            "198/198 [==============================] - 13s 63ms/step - loss: 0.1921 - accuracy: 0.9327 - val_loss: 0.3481 - val_accuracy: 0.9000\n",
            "Epoch 6/25\n",
            "198/198 [==============================] - 12s 62ms/step - loss: 0.1501 - accuracy: 0.9461 - val_loss: 0.3680 - val_accuracy: 0.9333\n",
            "Epoch 7/25\n",
            "198/198 [==============================] - 12s 63ms/step - loss: 0.1796 - accuracy: 0.9444 - val_loss: 0.1550 - val_accuracy: 0.9667\n",
            "Epoch 8/25\n",
            "198/198 [==============================] - 12s 62ms/step - loss: 0.1043 - accuracy: 0.9613 - val_loss: 0.1624 - val_accuracy: 0.9333\n",
            "Epoch 9/25\n",
            "198/198 [==============================] - 12s 62ms/step - loss: 0.0686 - accuracy: 0.9764 - val_loss: 0.3354 - val_accuracy: 0.9667\n",
            "Epoch 10/25\n",
            "198/198 [==============================] - 12s 62ms/step - loss: 0.0676 - accuracy: 0.9747 - val_loss: 0.2681 - val_accuracy: 0.9667\n",
            "Epoch 11/25\n",
            "198/198 [==============================] - 12s 61ms/step - loss: 0.0700 - accuracy: 0.9764 - val_loss: 0.3407 - val_accuracy: 0.9333\n",
            "Epoch 12/25\n",
            "198/198 [==============================] - 12s 61ms/step - loss: 0.0925 - accuracy: 0.9731 - val_loss: 0.2350 - val_accuracy: 0.9667\n",
            "Epoch 13/25\n",
            "198/198 [==============================] - 12s 62ms/step - loss: 0.0340 - accuracy: 0.9933 - val_loss: 0.2576 - val_accuracy: 0.9667\n",
            "Epoch 14/25\n",
            "198/198 [==============================] - 12s 62ms/step - loss: 0.0473 - accuracy: 0.9865 - val_loss: 0.2736 - val_accuracy: 0.9333\n",
            "Epoch 15/25\n",
            "198/198 [==============================] - 12s 61ms/step - loss: 0.0252 - accuracy: 0.9916 - val_loss: 0.1659 - val_accuracy: 0.9667\n",
            "Epoch 16/25\n",
            "198/198 [==============================] - 12s 62ms/step - loss: 0.0658 - accuracy: 0.9865 - val_loss: 0.2089 - val_accuracy: 0.9667\n",
            "Epoch 17/25\n",
            "198/198 [==============================] - 12s 62ms/step - loss: 0.0454 - accuracy: 0.9882 - val_loss: 0.2595 - val_accuracy: 0.9333\n",
            "Epoch 18/25\n",
            "198/198 [==============================] - 12s 62ms/step - loss: 0.0449 - accuracy: 0.9815 - val_loss: 0.2248 - val_accuracy: 0.9667\n",
            "Epoch 19/25\n",
            "198/198 [==============================] - 12s 62ms/step - loss: 0.0200 - accuracy: 0.9916 - val_loss: 0.2916 - val_accuracy: 0.9667\n",
            "Epoch 20/25\n",
            "198/198 [==============================] - 12s 62ms/step - loss: 0.0142 - accuracy: 0.9933 - val_loss: 0.3544 - val_accuracy: 0.9333\n",
            "Epoch 21/25\n",
            "198/198 [==============================] - 12s 62ms/step - loss: 0.0044 - accuracy: 0.9983 - val_loss: 0.2052 - val_accuracy: 0.9667\n",
            "Epoch 22/25\n",
            "198/198 [==============================] - 12s 62ms/step - loss: 0.1242 - accuracy: 0.9613 - val_loss: 0.1974 - val_accuracy: 0.9667\n",
            "Epoch 23/25\n",
            "198/198 [==============================] - 12s 62ms/step - loss: 0.0332 - accuracy: 0.9899 - val_loss: 0.6493 - val_accuracy: 0.8667\n",
            "Epoch 24/25\n",
            "198/198 [==============================] - 12s 62ms/step - loss: 0.0636 - accuracy: 0.9764 - val_loss: 0.4929 - val_accuracy: 0.8667\n",
            "Epoch 25/25\n",
            "198/198 [==============================] - 12s 62ms/step - loss: 0.0699 - accuracy: 0.9798 - val_loss: 0.3878 - val_accuracy: 0.9667\n"
          ]
        },
        {
          "output_type": "execute_result",
          "data": {
            "text/plain": [
              "<keras.callbacks.History at 0x7f3b97b1b150>"
            ]
          },
          "metadata": {},
          "execution_count": 48
        }
      ],
      "source": [
        "model.fit(A_train,steps_per_epoch = 594/3,epochs=25,validation_data=A_test,validation_steps=len(A_test))"
      ]
    },
    {
      "cell_type": "markdown",
      "metadata": {
        "id": "GZxzN-gYmIM2"
      },
      "source": [
        "Save the model"
      ]
    },
    {
      "cell_type": "code",
      "execution_count": 49,
      "metadata": {
        "id": "ZGW01lwimQae"
      },
      "outputs": [],
      "source": [
        "model.save('gesture.h5')"
      ]
    },
    {
      "cell_type": "code",
      "execution_count": 50,
      "metadata": {
        "id": "DWFogI6wmZVG"
      },
      "outputs": [],
      "source": [
        "json_model = model.to_json()\n",
        "with open(\"model-gesture.json\",\"w\") as json_file:\n",
        "  json_file.write(json_model)"
      ]
    },
    {
      "cell_type": "markdown",
      "metadata": {
        "id": "mZAm4a6NmeRu"
      },
      "source": [
        "Test the model"
      ]
    },
    {
      "cell_type": "code",
      "execution_count": 73,
      "metadata": {
        "id": "ui3yYA8OmglA"
      },
      "outputs": [],
      "source": [
        "from tensorflow.keras.models import load_model\n",
        "from tensorflow.keras.preprocessing import image\n",
        "from PIL import Image\n",
        "model = load_model('gesture.h5')\n",
        "img_path=\"/content/drive/MyDrive/test image.jpg\""
      ]
    },
    {
      "cell_type": "code",
      "execution_count": 74,
      "metadata": {
        "colab": {
          "base_uri": "https://localhost:8080/",
          "height": 286
        },
        "id": "WLRCPt2gnNBE",
        "outputId": "eb4a6258-ada9-4895-b436-db9ff015c249"
      },
      "outputs": [
        {
          "output_type": "stream",
          "name": "stdout",
          "text": [
            "Populating the interactive namespace from numpy and matplotlib\n"
          ]
        },
        {
          "output_type": "display_data",
          "data": {
            "text/plain": [
              "<Figure size 432x288 with 1 Axes>"
            ],
            "image/png": "[encoded data removed]"
          },
          "metadata": {
            "needs_background": "light"
          }
        }
      ],
      "source": [
        "%pylab inline\n",
        "import matplotlib.pyplot as plt\n",
        "import matplotlib.image as mpimg\n",
        "img = mpimg.imread(img_path)\n",
        "imgplot = plt.imshow(img)\n",
        "plt.show()"
      ]
    },
    {
      "cell_type": "code",
      "execution_count": 75,
      "metadata": {
        "colab": {
          "base_uri": "https://localhost:8080/"
        },
        "id": "IrcZ7gGiqTdi",
        "outputId": "91521b52-aaa4-4102-c60b-04a7a133d9ad"
      },
      "outputs": [
        {
          "output_type": "execute_result",
          "data": {
            "text/plain": [
              "(64, 64, 1)"
            ]
          },
          "metadata": {},
          "execution_count": 75
        }
      ],
      "source": [
        "imgload = image.load_img(img_path,color_mode='grayscale',target_size=(64,64))\n",
        "res = image.img_to_array(imgload)\n",
        "res.shape"
      ]
    },
    {
      "cell_type": "code",
      "execution_count": 76,
      "metadata": {
        "colab": {
          "base_uri": "https://localhost:8080/"
        },
        "id": "6tWRd5lGqVjn",
        "outputId": "96f3faf6-6c8a-4a48-a3d6-a1d6537da592"
      },
      "outputs": [
        {
          "output_type": "execute_result",
          "data": {
            "text/plain": [
              "numpy.ndarray"
            ]
          },
          "metadata": {},
          "execution_count": 76
        }
      ],
      "source": [
        "type(res)"
      ]
    },
    {
      "cell_type": "code",
      "execution_count": 77,
      "metadata": {
        "id": "5JPP3f7BqZq-"
      },
      "outputs": [],
      "source": [
        "res = np.expand_dims(res,axis=0)"
      ]
    },
    {
      "cell_type": "code",
      "execution_count": 78,
      "metadata": {
        "colab": {
          "base_uri": "https://localhost:8080/"
        },
        "id": "udJ7XlZZqeQ7",
        "outputId": "33ca25d9-508b-4596-bf3d-9bcec405df35"
      },
      "outputs": [
        {
          "output_type": "execute_result",
          "data": {
            "text/plain": [
              "(1, 64, 64, 1)"
            ]
          },
          "metadata": {},
          "execution_count": 78
        }
      ],
      "source": [
        "res.shape"
      ]
    },
    {
      "cell_type": "markdown",
      "metadata": {
        "id": "ZwA2lK-gqnWV"
      },
      "source": [
        "Predict the result"
      ]
    },
    {
      "cell_type": "code",
      "source": [
        "pred_res = np.argmax(model.predict(res),axis=-1)\n",
        "pred_res"
      ],
      "metadata": {
        "colab": {
          "base_uri": "https://localhost:8080/"
        },
        "id": "8gyUrNoZYj5e",
        "outputId": "fbafa3de-687d-42f9-85df-676c43b51615"
      },
      "execution_count": 79,
      "outputs": [
        {
          "output_type": "stream",
          "name": "stdout",
          "text": [
            "1/1 [==============================] - 0s 70ms/step\n"
          ]
        },
        {
          "output_type": "execute_result",
          "data": {
            "text/plain": [
              "array([1])"
            ]
          },
          "metadata": {},
          "execution_count": 79
        }
      ]
    },
    {
      "cell_type": "code",
      "source": [
        "index = ['0','1','2','3','4','5']\n",
        "final_res = str(index[pred_res[0]])\n",
        "final_res"
      ],
      "metadata": {
        "colab": {
          "base_uri": "https://localhost:8080/",
          "height": 35
        },
        "id": "-GG6r4LgcIO6",
        "outputId": "97b2fc45-1a03-4631-ac9f-36e8af81d74b"
      },
      "execution_count": 80,
      "outputs": [
        {
          "output_type": "execute_result",
          "data": {
            "text/plain": [
              "'1'"
            ],
            "application/vnd.google.colaboratory.intrinsic+json": {
              "type": "string"
            }
          },
          "metadata": {},
          "execution_count": 80
        }
      ]
    }
  ],
  "metadata": {
    "colab": {
      "provenance": []
    },
    "kernelspec": {
      "display_name": "Python 3",
      "name": "python3"
    },
    "language_info": {
      "name": "python"
    }
  },
  "nbformat": 4,
  "nbformat_minor": 0
}